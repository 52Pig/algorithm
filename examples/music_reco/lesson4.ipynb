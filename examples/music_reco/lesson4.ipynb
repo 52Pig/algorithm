{
 "cells": [
  {
   "cell_type": "markdown",
   "metadata": {},
   "source": [
    "## 使用协同过滤基于网易云音乐数据构建模型并进行预测"
   ]
  },
  {
   "cell_type": "code",
   "execution_count": 1,
   "metadata": {},
   "outputs": [
    {
     "name": "stdout",
     "output_type": "stream",
     "text": [
      "加载歌单id到歌单名的映射字典完成...\n",
      "加载歌单名到歌单id的映射字典完成...\n",
      "构建数据集...\n"
     ]
    }
   ],
   "source": [
    "import os\n",
    "import pickle\n",
    "from surprise import KNNBaseline, Reader\n",
    "from surprise import Dataset\n",
    "\n",
    "path = \"./data/output/popular/\"\n",
    "\n",
    "# 重建歌单id到歌单名的映射字典\n",
    "id_name_dic = pickle.load(open( path+\"popular_playlist.pkl\",\"rb\"))\n",
    "print(\"加载歌单id到歌单名的映射字典完成...\")\n",
    "# 重建歌单名到歌单id的映射字典\n",
    "name_id_dic = {}\n",
    "for playlist_id in id_name_dic:\n",
    "    name_id_dic[id_name_dic[playlist_id]] = playlist_id\n",
    "print(\"加载歌单名到歌单id的映射字典完成...\")\n",
    "\n",
    "file_path = os.path.expanduser(path+\"popular_music_suprise_format.txt\")\n",
    "# 指定文件格式\n",
    "reader = Reader(line_format='user item rating timestamp', sep=',')\n",
    "# 从文件读取数据\n",
    "music_data = Dataset.load_from_file(file_path, reader=reader)\n",
    "# 计算歌曲和歌曲之间的相似度\n",
    "print(\"构建数据集...\")\n",
    "trainset = music_data.build_full_trainset()\n",
    "#sim_options = {'name': 'pearson_baseline', 'user_based': False}"
   ]
  },
  {
   "cell_type": "code",
   "execution_count": 2,
   "metadata": {},
   "outputs": [
    {
     "data": {
      "text/plain": [
       "'21770258'"
      ]
     },
     "execution_count": 2,
     "metadata": {},
     "output_type": "execute_result"
    }
   ],
   "source": [
    "i = list(id_name_dic.keys())[2]\n",
    "i"
   ]
  },
  {
   "cell_type": "code",
   "execution_count": 3,
   "metadata": {},
   "outputs": [
    {
     "name": "stdout",
     "output_type": "stream",
     "text": [
      "周杰伦好听的“三字曲”\n"
     ]
    }
   ],
   "source": [
    "print(id_name_dic[i])"
   ]
  },
  {
   "cell_type": "code",
   "execution_count": 4,
   "metadata": {},
   "outputs": [
    {
     "data": {
      "text/plain": [
       "50539"
      ]
     },
     "execution_count": 4,
     "metadata": {},
     "output_type": "execute_result"
    }
   ],
   "source": [
    "trainset.n_items"
   ]
  },
  {
   "cell_type": "code",
   "execution_count": 5,
   "metadata": {},
   "outputs": [
    {
     "data": {
      "text/plain": [
       "1076"
      ]
     },
     "execution_count": 5,
     "metadata": {},
     "output_type": "execute_result"
    }
   ],
   "source": [
    "trainset.n_users"
   ]
  },
  {
   "cell_type": "markdown",
   "metadata": {},
   "source": [
    "## 基于用户的协同过滤"
   ]
  },
  {
   "cell_type": "markdown",
   "metadata": {},
   "source": [
    "主要思想：找出和当前用户兴趣相近的用户，针对网易云音乐歌单数据而言，这里的用户就是歌单"
   ]
  },
  {
   "cell_type": "code",
   "execution_count": 6,
   "metadata": {},
   "outputs": [
    {
     "name": "stdout",
     "output_type": "stream",
     "text": [
      "开始训练模型...\n",
      "Estimating biases using als...\n",
      "Computing the msd similarity matrix...\n",
      "Done computing similarity matrix.\n",
      "歌单名称 适合吉他初学者弹奏的歌曲\n",
      "歌单id 69758545\n",
      "内部id 723\n",
      "\n",
      "和歌单 《 适合吉他初学者弹奏的歌曲 》 最接近的10个歌单为：\n",
      "\n",
      "当过千评论的华语翻唱遇上“原唱”【更新】 1\n",
      "【华语】暖心物语 纯白思念 3\n",
      "〖循环〗单曲循环是强迫症吗？ 4\n",
      "简单的爱总是那么吸引人 6\n",
      "『华语/回忆』95后陪伴我中学时期的歌曲 13\n",
      "所有的大人，曾经都是小孩 16\n",
      "有没有一首歌让你泪流满面 17\n",
      "专属你的周杰伦 18\n",
      "云村村民专属歌单 20\n",
      "「华语歌曲」 23\n"
     ]
    }
   ],
   "source": [
    "print(\"开始训练模型...\")\n",
    "#sim_options = {'user_based': False}\n",
    "#algo = KNNBaseline(sim_options=sim_options)\n",
    "algo = KNNBaseline()\n",
    "\n",
    "algo.fit(trainset)\n",
    "\n",
    "current_playlist = list(name_id_dic.keys())[39]\n",
    "print(\"歌单名称\", current_playlist)\n",
    "\n",
    "# 取出近邻\n",
    "# 映射名字到id\n",
    "playlist_id = name_id_dic[current_playlist]\n",
    "print(\"歌单id\", playlist_id)\n",
    "# 取出来对应的内部user id => to_inner_uid\n",
    "playlist_inner_id = algo.trainset.to_inner_uid(playlist_id)\n",
    "print(\"内部id\", playlist_inner_id)\n",
    "\n",
    "playlist_neighbors = algo.get_neighbors(playlist_inner_id, k=10)\n",
    "\n",
    "# 把歌曲id转成歌曲名字\n",
    "# to_raw_uid映射回去\n",
    "playlist_neighbors = (algo.trainset.to_raw_uid(inner_id)\n",
    "                       for inner_id in playlist_neighbors)\n",
    "playlist_neighbors = (id_name_dic[playlist_id]\n",
    "                       for playlist_id in playlist_neighbors)\n",
    "\n",
    "print()\n",
    "print(\"和歌单 《\", current_playlist, \"》 最接近的10个歌单为：\\n\")\n",
    "for playlist in playlist_neighbors:\n",
    "    print(playlist, algo.trainset.to_inner_uid(name_id_dic[playlist]))"
   ]
  },
  {
   "cell_type": "markdown",
   "metadata": {},
   "source": [
    "## 基于协同过滤的用户评分预测"
   ]
  },
  {
   "cell_type": "code",
   "execution_count": 7,
   "metadata": {},
   "outputs": [
    {
     "name": "stdout",
     "output_type": "stream",
     "text": [
      "加载歌曲id到歌曲名的映射字典完成...\n",
      "加载歌曲名到歌曲id的映射字典完成...\n"
     ]
    }
   ],
   "source": [
    "import pickle\n",
    "# 重建歌曲id到歌曲名的映射字典\n",
    "song_id_name_dic = pickle.load(open(path+\"popular_song.pkl\",\"rb\"))\n",
    "print(\"加载歌曲id到歌曲名的映射字典完成...\")\n",
    "# 重建歌曲名到歌曲id的映射字典\n",
    "song_name_id_dic = {}\n",
    "for song_id in song_id_name_dic:\n",
    "    song_name_id_dic[song_id_name_dic[song_id]] = song_id\n",
    "print(\"加载歌曲名到歌曲id的映射字典完成...\")"
   ]
  },
  {
   "cell_type": "code",
   "execution_count": 8,
   "metadata": {
    "scrolled": true
   },
   "outputs": [
    {
     "name": "stdout",
     "output_type": "stream",
     "text": [
      "user: 4          item: 478        r_ui = 1.00   est = 1.00   {'was_impossible': False} 听见下雨的声音\t魏如昀\n",
      "user: 4          item: 429        r_ui = 1.00   est = 1.00   {'was_impossible': False} 梦一场\t萧敬腾\n",
      "user: 4          item: 936        r_ui = 1.00   est = 1.00   {'was_impossible': False} 干杯\t西瓜Kune\n",
      "user: 4          item: 937        r_ui = 1.00   est = 1.00   {'was_impossible': False} 给自己的歌 (Live) - live\t纵贯线\n",
      "user: 4          item: 938        r_ui = 1.00   est = 1.00   {'was_impossible': False} 小半\t陈粒\n",
      "user: 4          item: 939        r_ui = 1.00   est = 1.00   {'was_impossible': False} 思念是一种病(Live) - live\t张震岳\n",
      "user: 4          item: 940        r_ui = 1.00   est = 1.00   {'was_impossible': False} 可以不可以\t丁当\n",
      "user: 4          item: 941        r_ui = 1.00   est = 1.00   {'was_impossible': False} 秋酿\t房东的猫\n",
      "user: 4          item: 616        r_ui = 1.00   est = 1.00   {'was_impossible': False} 退后\t周杰伦\n",
      "user: 4          item: 942        r_ui = 1.00   est = 1.00   {'was_impossible': False} 阴天\t莫文蔚\n",
      "user: 4          item: 943        r_ui = 1.00   est = 1.00   {'was_impossible': False} 痛爱\t容祖儿\n",
      "user: 4          item: 944        r_ui = 1.00   est = 1.00   {'was_impossible': False} 二十世纪少年(Unplugged) - unplug\tPing Pung\n",
      "user: 4          item: 945        r_ui = 1.00   est = 1.00   {'was_impossible': False} 前所未见\t陈慧琳\n",
      "user: 4          item: 946        r_ui = 1.00   est = 1.00   {'was_impossible': False} 追梦赤子心\tGALA\n",
      "user: 4          item: 947        r_ui = 1.00   est = 1.00   {'was_impossible': False} 如果你也听说\t张惠妹\n",
      "user: 4          item: 948        r_ui = 1.00   est = 1.00   {'was_impossible': False} 寄生\t吴克羣\n",
      "user: 4          item: 949        r_ui = 1.00   est = 1.00   {'was_impossible': False} 怎么唱情歌\t刘惜君\n",
      "user: 4          item: 55         r_ui = 1.00   est = 1.00   {'was_impossible': False} 忽然之间\t巴士那\n",
      "user: 4          item: 950        r_ui = 1.00   est = 1.00   {'was_impossible': False} 烟霞\t容祖儿\n",
      "user: 4          item: 138        r_ui = 1.00   est = 1.00   {'was_impossible': False} 小幸运\t双笙\n",
      "user: 4          item: 951        r_ui = 1.00   est = 1.00   {'was_impossible': False} 错过\t王铮亮\n",
      "user: 4          item: 952        r_ui = 1.00   est = 1.00   {'was_impossible': False} 泪海\t许茹芸\n",
      "user: 4          item: 453        r_ui = 1.00   est = 1.00   {'was_impossible': False} 外面的世界\t莫文蔚\n",
      "user: 4          item: 840        r_ui = 1.00   est = 1.00   {'was_impossible': False} 短发\t梁咏琪\n",
      "user: 4          item: 953        r_ui = 1.00   est = 1.00   {'was_impossible': False} 遗憾\t方炯镔\n",
      "user: 4          item: 954        r_ui = 1.00   est = 1.00   {'was_impossible': False} 假如让我说下去\t杨千嬅\n",
      "user: 4          item: 955        r_ui = 1.00   est = 1.00   {'was_impossible': False} 爱你\t许志安\n",
      "user: 4          item: 956        r_ui = 1.00   est = 1.00   {'was_impossible': False} 你的手信\t陈慧敏\n",
      "user: 4          item: 352        r_ui = 1.00   est = 1.00   {'was_impossible': False} 遗憾\t许美静\n",
      "user: 4          item: 957        r_ui = 1.00   est = 1.00   {'was_impossible': False} 无终\t谢春花\n",
      "user: 4          item: 958        r_ui = 1.00   est = 1.00   {'was_impossible': False} 骄傲的少年\t南征北战\n",
      "user: 4          item: 959        r_ui = 1.00   est = 1.00   {'was_impossible': False} 一个人一座城\t曹寅\n",
      "user: 4          item: 960        r_ui = 1.00   est = 1.00   {'was_impossible': False} 好得很\t麦家瑜\n",
      "user: 4          item: 961        r_ui = 1.00   est = 1.00   {'was_impossible': False} 终身美丽\t郑秀文\n",
      "user: 4          item: 962        r_ui = 1.00   est = 1.00   {'was_impossible': False} 倾城\t许美静\n",
      "user: 4          item: 963        r_ui = 1.00   est = 1.00   {'was_impossible': False} 想要你知道\t许亚童\n",
      "user: 4          item: 964        r_ui = 1.00   est = 1.00   {'was_impossible': False} 忆她\t赵烁\n",
      "user: 4          item: 965        r_ui = 1.00   est = 1.00   {'was_impossible': False} 边走边唱\t李荣浩\n",
      "user: 4          item: 966        r_ui = 1.00   est = 1.00   {'was_impossible': False} 再见只是陌生人\t庄心妍\n",
      "user: 4          item: 967        r_ui = 1.00   est = 1.00   {'was_impossible': False} 每条伤心的大街\t飘乐队\n",
      "user: 4          item: 968        r_ui = 1.00   est = 1.00   {'was_impossible': False} 死结\t李玖哲\n",
      "user: 4          item: 969        r_ui = 1.00   est = 1.00   {'was_impossible': False} 我是你的影子\tXun(易硕成)\n",
      "user: 4          item: 970        r_ui = 1.00   est = 1.00   {'was_impossible': False} 孤儿仔\t陈奕迅\n",
      "user: 4          item: 971        r_ui = 1.00   est = 1.00   {'was_impossible': False} 霜雪千年\t双笙\n",
      "user: 4          item: 972        r_ui = 1.00   est = 1.00   {'was_impossible': False} 想起小时候\t前冲\n",
      "user: 4          item: 755        r_ui = 1.00   est = 1.00   {'was_impossible': False} 给自己的情书\t王菲\n",
      "user: 4          item: 279        r_ui = 1.00   est = 1.00   {'was_impossible': False} 情非得已\t庾澄庆\n",
      "user: 4          item: 973        r_ui = 1.00   est = 1.00   {'was_impossible': False} 听说爱情回来过(Live) - live\t张敬轩\n",
      "user: 4          item: 715        r_ui = 1.00   est = 1.00   {'was_impossible': False} 至少还有你\t林忆莲\n",
      "user: 4          item: 974        r_ui = 1.00   est = 1.00   {'was_impossible': False} 致自己\t齐一\n",
      "user: 4          item: 975        r_ui = 1.00   est = 1.00   {'was_impossible': False} 可惜我不是他\tXun\n",
      "user: 4          item: 976        r_ui = 1.00   est = 1.00   {'was_impossible': False} 恋人心\t魏新雨\n",
      "user: 4          item: 977        r_ui = 1.00   est = 1.00   {'was_impossible': False} 美好事物\t房东的猫\n",
      "user: 4          item: 978        r_ui = 1.00   est = 1.00   {'was_impossible': False} 你就要走了\t花粥\n",
      "user: 4          item: 979        r_ui = 1.00   est = 1.00   {'was_impossible': False} 一半\t薛之谦\n",
      "user: 4          item: 259        r_ui = 1.00   est = 1.00   {'was_impossible': False} 斑马斑马 - 翻唱\t房东的猫\n",
      "user: 4          item: 980        r_ui = 1.00   est = 1.00   {'was_impossible': False} 还想听你的故事\t谢春花\n",
      "user: 4          item: 981        r_ui = 1.00   est = 1.00   {'was_impossible': False} 房间\t刘瑞琦\n",
      "user: 4          item: 982        r_ui = 1.00   est = 1.00   {'was_impossible': False} 狮子座(live)\t曾轶可\n",
      "user: 4          item: 611        r_ui = 1.00   est = 1.00   {'was_impossible': False} 青花瓷\t周杰伦\n",
      "user: 4          item: 983        r_ui = 1.00   est = 1.00   {'was_impossible': False} 目前\t洪卓立\n",
      "user: 4          item: 984        r_ui = 1.00   est = 1.00   {'was_impossible': False} 月球下的人\t李幸倪\n",
      "user: 4          item: 985        r_ui = 1.00   est = 1.00   {'was_impossible': False} 明明\t钟一宪\n",
      "user: 4          item: 986        r_ui = 1.00   est = 1.00   {'was_impossible': False} 一棵会开花的树(demo)\t谢春花\n",
      "user: 4          item: 987        r_ui = 1.00   est = 1.00   {'was_impossible': False} 借我\t谢春花\n",
      "user: 4          item: 209        r_ui = 1.00   est = 1.00   {'was_impossible': False} 丑八怪\t薛之谦\n",
      "user: 4          item: 988        r_ui = 1.00   est = 1.00   {'was_impossible': False} 习惯失恋\t容祖儿\n",
      "user: 4          item: 989        r_ui = 1.00   est = 1.00   {'was_impossible': False} 红玫瑰\t陈奕迅\n",
      "user: 4          item: 192        r_ui = 1.00   est = 1.00   {'was_impossible': False} 漂洋过海来看你\t周深\n",
      "user: 4          item: 990        r_ui = 1.00   est = 1.00   {'was_impossible': False} 那女孩对我说\t黄义达\n",
      "user: 4          item: 991        r_ui = 1.00   est = 1.00   {'was_impossible': False} 后来\t群星\n",
      "user: 4          item: 992        r_ui = 1.00   est = 1.00   {'was_impossible': False} 喜剧之王\t李荣浩\n",
      "user: 4          item: 993        r_ui = 1.00   est = 1.00   {'was_impossible': False} 爱你\t陈芳语\n",
      "user: 4          item: 994        r_ui = 1.00   est = 1.00   {'was_impossible': False} 我爱你\t卢广仲\n",
      "user: 4          item: 995        r_ui = 1.00   est = 1.00   {'was_impossible': False} 遇见你的时候所有星星都落到我头上\t高姗\n",
      "user: 4          item: 996        r_ui = 1.00   est = 1.00   {'was_impossible': False} 一身诗意千寻瀑\t不才\n",
      "user: 4          item: 997        r_ui = 1.00   est = 1.00   {'was_impossible': False} 你在烦恼什么\t苏打绿\n",
      "user: 4          item: 998        r_ui = 1.00   est = 1.00   {'was_impossible': False} 我为自己代言\t魏晨\n",
      "user: 4          item: 141        r_ui = 1.00   est = 1.00   {'was_impossible': False} 夜空中最亮的星\t逃跑计划\n",
      "user: 4          item: 999        r_ui = 1.00   est = 1.00   {'was_impossible': False} 阴天快乐\t陈奕迅\n",
      "user: 4          item: 132        r_ui = 1.00   est = 1.00   {'was_impossible': False} 原谅\t张玉华\n",
      "user: 4          item: 1000       r_ui = 1.00   est = 1.00   {'was_impossible': False} 放过自己\t庄心妍\n",
      "user: 4          item: 1001       r_ui = 1.00   est = 1.00   {'was_impossible': False} 最好的我\t龚芝怡\n",
      "user: 4          item: 317        r_ui = 1.00   est = 1.00   {'was_impossible': False} 爱一点\t莫艳琳\n",
      "user: 4          item: 1002       r_ui = 1.00   est = 1.00   {'was_impossible': False} 陪我看日出\t蔡淳佳\n",
      "user: 4          item: 1003       r_ui = 1.00   est = 1.00   {'was_impossible': False} 幸福了 然后呢\tA-Lin\n",
      "user: 4          item: 1004       r_ui = 1.00   est = 1.00   {'was_impossible': False} 耿耿于怀\t麦浚龙\n",
      "user: 4          item: 1005       r_ui = 1.00   est = 1.00   {'was_impossible': False} 不说出的温柔\t范逸臣\n",
      "user: 4          item: 1006       r_ui = 1.00   est = 1.00   {'was_impossible': False} 初爱\t杨宗纬\n",
      "user: 4          item: 1007       r_ui = 1.00   est = 1.00   {'was_impossible': False} 只不过是\t花粥\n",
      "user: 4          item: 1008       r_ui = 1.00   est = 1.00   {'was_impossible': False} 理想三旬\t陈鸿宇\n",
      "user: 4          item: 137        r_ui = 1.00   est = 1.00   {'was_impossible': False} 小幸运（Cover 田馥甄）\t金玟岐\n",
      "user: 4          item: 1009       r_ui = 1.00   est = 1.00   {'was_impossible': False} 那又如何\t应嘉俐\n",
      "user: 4          item: 1010       r_ui = 1.00   est = 1.00   {'was_impossible': False} 小相思\t花粥\n",
      "user: 4          item: 1011       r_ui = 1.00   est = 1.00   {'was_impossible': False} 我不难过\t孙燕姿\n",
      "user: 4          item: 1012       r_ui = 1.00   est = 1.00   {'was_impossible': False} 你看不到的天空\t蔡旻佑\n",
      "user: 4          item: 1013       r_ui = 1.00   est = 1.00   {'was_impossible': False} 耿耿于怀\t王笑文\n",
      "user: 4          item: 1014       r_ui = 1.00   est = 1.00   {'was_impossible': False} 试探\t王般若\n",
      "user: 4          item: 1015       r_ui = 1.00   est = 1.00   {'was_impossible': False} 有你陪伴的夏天\t黄婧\n",
      "user: 4          item: 1016       r_ui = 1.00   est = 1.00   {'was_impossible': False} 不说再见\t好妹妹乐队\n"
     ]
    }
   ],
   "source": [
    "#内部编码的4号用户\n",
    "user_inner_id = 4\n",
    "user_rating = trainset.ur[user_inner_id]\n",
    "items = map(lambda x:x[0], user_rating)\n",
    "for song in items:\n",
    "    print(algo.predict(user_inner_id, song, r_ui=1), song_id_name_dic[algo.trainset.to_raw_iid(song)])"
   ]
  },
  {
   "cell_type": "markdown",
   "metadata": {},
   "source": [
    "## 基于矩阵分解的用户评分预测"
   ]
  },
  {
   "cell_type": "code",
   "execution_count": 9,
   "metadata": {},
   "outputs": [
    {
     "data": {
      "text/plain": [
       "<surprise.prediction_algorithms.matrix_factorization.NMF at 0x63a80b8>"
      ]
     },
     "execution_count": 9,
     "metadata": {},
     "output_type": "execute_result"
    }
   ],
   "source": [
    "### 使用NMF\n",
    "from surprise import NMF\n",
    "from surprise import Dataset\n",
    "\n",
    "file_path = os.path.expanduser(path+'./popular_music_suprise_format.txt')\n",
    "# 指定文件格式\n",
    "reader = Reader(line_format='user item rating timestamp', sep=',')\n",
    "# 从文件读取数据\n",
    "music_data = Dataset.load_from_file(file_path, reader=reader)\n",
    "# 构建数据集和建模\n",
    "algo = NMF()\n",
    "trainset = music_data.build_full_trainset()\n",
    "algo.fit(trainset)"
   ]
  },
  {
   "cell_type": "code",
   "execution_count": 10,
   "metadata": {},
   "outputs": [
    {
     "name": "stdout",
     "output_type": "stream",
     "text": [
      "user: 400232387  item: 27724082   r_ui = 1.00   est = 1.00   {'was_impossible': False} 听见下雨的声音\t魏如昀\n",
      "user: 400232387  item: 167916     r_ui = 1.00   est = 1.00   {'was_impossible': False} 梦一场\t萧敬腾\n",
      "user: 400232387  item: 408307325  r_ui = 1.00   est = 1.00   {'was_impossible': False} 干杯\t西瓜Kune\n",
      "user: 400232387  item: 394618     r_ui = 1.00   est = 1.00   {'was_impossible': False} 给自己的歌 (Live) - live\t纵贯线\n",
      "user: 400232387  item: 421423806  r_ui = 1.00   est = 1.00   {'was_impossible': False} 小半\t陈粒\n",
      "user: 400232387  item: 394485     r_ui = 1.00   est = 1.00   {'was_impossible': False} 思念是一种病(Live) - live\t张震岳\n",
      "user: 400232387  item: 5239563    r_ui = 1.00   est = 1.00   {'was_impossible': False} 可以不可以\t丁当\n",
      "user: 400232387  item: 30635613   r_ui = 1.00   est = 1.00   {'was_impossible': False} 秋酿\t房东的猫\n",
      "user: 400232387  item: 185884     r_ui = 1.00   est = 1.00   {'was_impossible': False} 退后\t周杰伦\n",
      "user: 400232387  item: 276936     r_ui = 1.00   est = 1.00   {'was_impossible': False} 阴天\t莫文蔚\n",
      "user: 400232387  item: 27867458   r_ui = 1.00   est = 1.00   {'was_impossible': False} 痛爱\t容祖儿\n",
      "user: 400232387  item: 370776     r_ui = 1.00   est = 1.00   {'was_impossible': False} 二十世纪少年(Unplugged) - unplug\tPing Pung\n",
      "user: 400232387  item: 213673     r_ui = 1.00   est = 1.00   {'was_impossible': False} 前所未见\t陈慧琳\n",
      "user: 400232387  item: 355992     r_ui = 1.00   est = 1.00   {'was_impossible': False} 追梦赤子心\tGALA\n",
      "user: 400232387  item: 326904     r_ui = 1.00   est = 1.00   {'was_impossible': False} 如果你也听说\t张惠妹\n",
      "user: 400232387  item: 156099     r_ui = 1.00   est = 1.00   {'was_impossible': False} 寄生\t吴克羣\n",
      "user: 400232387  item: 255219     r_ui = 1.00   est = 1.00   {'was_impossible': False} 怎么唱情歌\t刘惜君\n",
      "user: 400232387  item: 33314587   r_ui = 1.00   est = 1.00   {'was_impossible': False} 忽然之间\t巴士那\n",
      "user: 400232387  item: 287744     r_ui = 1.00   est = 1.00   {'was_impossible': False} 烟霞\t容祖儿\n",
      "user: 400232387  item: 409650841  r_ui = 1.00   est = 1.00   {'was_impossible': False} 小幸运\t双笙\n",
      "user: 400232387  item: 165005     r_ui = 1.00   est = 1.00   {'was_impossible': False} 错过\t王铮亮\n",
      "user: 400232387  item: 307594     r_ui = 1.00   est = 1.00   {'was_impossible': False} 泪海\t许茹芸\n",
      "user: 400232387  item: 276904     r_ui = 1.00   est = 1.00   {'was_impossible': False} 外面的世界\t莫文蔚\n",
      "user: 400232387  item: 255973     r_ui = 1.00   est = 1.00   {'was_impossible': False} 短发\t梁咏琪\n",
      "user: 400232387  item: 82561      r_ui = 1.00   est = 1.00   {'was_impossible': False} 遗憾\t方炯镔\n",
      "user: 400232387  item: 316637     r_ui = 1.00   est = 1.00   {'was_impossible': False} 假如让我说下去\t杨千嬅\n",
      "user: 400232387  item: 169617     r_ui = 1.00   est = 1.00   {'was_impossible': False} 爱你\t许志安\n",
      "user: 400232387  item: 400074175  r_ui = 1.00   est = 1.00   {'was_impossible': False} 你的手信\t陈慧敏\n",
      "user: 400232387  item: 307018     r_ui = 1.00   est = 1.00   {'was_impossible': False} 遗憾\t许美静\n",
      "user: 400232387  item: 417833356  r_ui = 1.00   est = 1.00   {'was_impossible': False} 无终\t谢春花\n",
      "user: 400232387  item: 408332757  r_ui = 1.00   est = 1.00   {'was_impossible': False} 骄傲的少年\t南征北战\n",
      "user: 400232387  item: 26609894   r_ui = 1.00   est = 1.00   {'was_impossible': False} 一个人一座城\t曹寅\n",
      "user: 400232387  item: 26418879   r_ui = 1.00   est = 1.00   {'was_impossible': False} 好得很\t麦家瑜\n",
      "user: 400232387  item: 328169     r_ui = 1.00   est = 1.00   {'was_impossible': False} 终身美丽\t郑秀文\n",
      "user: 400232387  item: 306709     r_ui = 1.00   est = 1.00   {'was_impossible': False} 倾城\t许美静\n",
      "user: 400232387  item: 32507551   r_ui = 1.00   est = 1.00   {'was_impossible': False} 想要你知道\t许亚童\n",
      "user: 400232387  item: 28661071   r_ui = 1.00   est = 1.00   {'was_impossible': False} 忆她\t赵烁\n",
      "user: 400232387  item: 31134197   r_ui = 1.00   est = 1.00   {'was_impossible': False} 边走边唱\t李荣浩\n",
      "user: 400232387  item: 36199595   r_ui = 1.00   est = 1.00   {'was_impossible': False} 再见只是陌生人\t庄心妍\n",
      "user: 400232387  item: 370577     r_ui = 1.00   est = 1.00   {'was_impossible': False} 每条伤心的大街\t飘乐队\n",
      "user: 400232387  item: 109174     r_ui = 1.00   est = 1.00   {'was_impossible': False} 死结\t李玖哲\n",
      "user: 400232387  item: 413834900  r_ui = 1.00   est = 1.00   {'was_impossible': False} 我是你的影子\tXun(易硕成)\n",
      "user: 400232387  item: 67032      r_ui = 1.00   est = 1.00   {'was_impossible': False} 孤儿仔\t陈奕迅\n",
      "user: 400232387  item: 409650851  r_ui = 1.00   est = 1.00   {'was_impossible': False} 霜雪千年\t双笙\n",
      "user: 400232387  item: 32334601   r_ui = 1.00   est = 1.00   {'was_impossible': False} 想起小时候\t前冲\n",
      "user: 400232387  item: 299604     r_ui = 1.00   est = 1.00   {'was_impossible': False} 给自己的情书\t王菲\n",
      "user: 400232387  item: 176999     r_ui = 1.00   est = 1.00   {'was_impossible': False} 情非得已\t庾澄庆\n",
      "user: 400232387  item: 188815     r_ui = 1.00   est = 1.00   {'was_impossible': False} 听说爱情回来过(Live) - live\t张敬轩\n",
      "user: 400232387  item: 256468     r_ui = 1.00   est = 1.00   {'was_impossible': False} 至少还有你\t林忆莲\n",
      "user: 400232387  item: 35476048   r_ui = 1.00   est = 1.00   {'was_impossible': False} 致自己\t齐一\n",
      "user: 400232387  item: 405343398  r_ui = 1.00   est = 1.00   {'was_impossible': False} 可惜我不是他\tXun\n",
      "user: 400232387  item: 28668855   r_ui = 1.00   est = 1.00   {'was_impossible': False} 恋人心\t魏新雨\n",
      "user: 400232387  item: 417596830  r_ui = 1.00   est = 1.00   {'was_impossible': False} 美好事物\t房东的猫\n",
      "user: 400232387  item: 31284039   r_ui = 1.00   est = 1.00   {'was_impossible': False} 你就要走了\t花粥\n",
      "user: 400232387  item: 35528482   r_ui = 1.00   est = 1.00   {'was_impossible': False} 一半\t薛之谦\n",
      "user: 400232387  item: 30814948   r_ui = 1.00   est = 1.00   {'was_impossible': False} 斑马斑马 - 翻唱\t房东的猫\n",
      "user: 400232387  item: 413829873  r_ui = 1.00   est = 1.00   {'was_impossible': False} 还想听你的故事\t谢春花\n",
      "user: 400232387  item: 27867140   r_ui = 1.00   est = 1.00   {'was_impossible': False} 房间\t刘瑞琦\n",
      "user: 400232387  item: 28936273   r_ui = 1.00   est = 1.00   {'was_impossible': False} 狮子座(live)\t曾轶可\n",
      "user: 400232387  item: 185811     r_ui = 1.00   est = 1.00   {'was_impossible': False} 青花瓷\t周杰伦\n",
      "user: 400232387  item: 95610      r_ui = 1.00   est = 1.00   {'was_impossible': False} 目前\t洪卓立\n",
      "user: 400232387  item: 407927304  r_ui = 1.00   est = 1.00   {'was_impossible': False} 月球下的人\t李幸倪\n",
      "user: 400232387  item: 5240138    r_ui = 1.00   est = 1.00   {'was_impossible': False} 明明\t钟一宪\n",
      "user: 400232387  item: 33872719   r_ui = 1.00   est = 1.00   {'was_impossible': False} 一棵会开花的树(demo)\t谢春花\n",
      "user: 400232387  item: 408814900  r_ui = 1.00   est = 1.00   {'was_impossible': False} 借我\t谢春花\n",
      "user: 400232387  item: 27808044   r_ui = 1.00   est = 1.00   {'was_impossible': False} 丑八怪\t薛之谦\n",
      "user: 400232387  item: 288075     r_ui = 1.00   est = 1.00   {'was_impossible': False} 习惯失恋\t容祖儿\n",
      "user: 400232387  item: 65126      r_ui = 1.00   est = 1.00   {'was_impossible': False} 红玫瑰\t陈奕迅\n",
      "user: 400232387  item: 30903117   r_ui = 1.00   est = 1.00   {'was_impossible': False} 漂洋过海来看你\t周深\n",
      "user: 400232387  item: 92939      r_ui = 1.00   est = 1.00   {'was_impossible': False} 那女孩对我说\t黄义达\n",
      "user: 400232387  item: 406730941  r_ui = 1.00   est = 1.00   {'was_impossible': False} 后来\t群星\n",
      "user: 400232387  item: 29710981   r_ui = 1.00   est = 1.00   {'was_impossible': False} 喜剧之王\t李荣浩\n",
      "user: 400232387  item: 22852057   r_ui = 1.00   est = 1.00   {'was_impossible': False} 爱你\t陈芳语\n",
      "user: 400232387  item: 109628     r_ui = 1.00   est = 1.00   {'was_impossible': False} 我爱你\t卢广仲\n",
      "user: 400232387  item: 30039685   r_ui = 1.00   est = 1.00   {'was_impossible': False} 遇见你的时候所有星星都落到我头上\t高姗\n",
      "user: 400232387  item: 28798308   r_ui = 1.00   est = 1.00   {'was_impossible': False} 一身诗意千寻瀑\t不才\n",
      "user: 400232387  item: 374621     r_ui = 1.00   est = 1.00   {'was_impossible': False} 你在烦恼什么\t苏打绿\n",
      "user: 400232387  item: 27955777   r_ui = 1.00   est = 1.00   {'was_impossible': False} 我为自己代言\t魏晨\n",
      "user: 400232387  item: 25706282   r_ui = 1.00   est = 1.00   {'was_impossible': False} 夜空中最亮的星\t逃跑计划\n",
      "user: 400232387  item: 28563317   r_ui = 1.00   est = 1.00   {'was_impossible': False} 阴天快乐\t陈奕迅\n",
      "user: 400232387  item: 329371     r_ui = 1.00   est = 1.00   {'was_impossible': False} 原谅\t张玉华\n",
      "user: 400232387  item: 36270514   r_ui = 1.00   est = 1.00   {'was_impossible': False} 放过自己\t庄心妍\n",
      "user: 400232387  item: 238114     r_ui = 1.00   est = 1.00   {'was_impossible': False} 最好的我\t龚芝怡\n",
      "user: 400232387  item: 276035     r_ui = 1.00   est = 1.00   {'was_impossible': False} 爱一点\t莫艳琳\n",
      "user: 400232387  item: 210326     r_ui = 1.00   est = 1.00   {'was_impossible': False} 陪我看日出\t蔡淳佳\n",
      "user: 400232387  item: 25657348   r_ui = 1.00   est = 1.00   {'was_impossible': False} 幸福了 然后呢\tA-Lin\n",
      "user: 400232387  item: 135355     r_ui = 1.00   est = 1.00   {'was_impossible': False} 耿耿于怀\t麦浚龙\n",
      "user: 400232387  item: 81836      r_ui = 1.00   est = 1.00   {'was_impossible': False} 不说出的温柔\t范逸臣\n",
      "user: 400232387  item: 26075548   r_ui = 1.00   est = 1.00   {'was_impossible': False} 初爱\t杨宗纬\n",
      "user: 400232387  item: 31284032   r_ui = 1.00   est = 1.00   {'was_impossible': False} 只不过是\t花粥\n",
      "user: 400232387  item: 31445772   r_ui = 1.00   est = 1.00   {'was_impossible': False} 理想三旬\t陈鸿宇\n",
      "user: 400232387  item: 41665696   r_ui = 1.00   est = 1.00   {'was_impossible': False} 小幸运（Cover 田馥甄）\t金玟岐\n",
      "user: 400232387  item: 325336     r_ui = 1.00   est = 1.00   {'was_impossible': False} 那又如何\t应嘉俐\n",
      "user: 400232387  item: 31284031   r_ui = 1.00   est = 1.00   {'was_impossible': False} 小相思\t花粥\n",
      "user: 400232387  item: 287398     r_ui = 1.00   est = 1.00   {'was_impossible': False} 我不难过\t孙燕姿\n",
      "user: 400232387  item: 65601      r_ui = 1.00   est = 1.00   {'was_impossible': False} 你看不到的天空\t蔡旻佑\n",
      "user: 400232387  item: 407679465  r_ui = 1.00   est = 1.00   {'was_impossible': False} 耿耿于怀\t王笑文\n",
      "user: 400232387  item: 416890227  r_ui = 1.00   est = 1.00   {'was_impossible': False} 试探\t王般若\n",
      "user: 400232387  item: 28606499   r_ui = 1.00   est = 1.00   {'was_impossible': False} 有你陪伴的夏天\t黄婧\n",
      "user: 400232387  item: 399354289  r_ui = 1.00   est = 1.00   {'was_impossible': False} 不说再见\t好妹妹乐队\n"
     ]
    }
   ],
   "source": [
    "user_inner_id = 4\n",
    "user_rating = trainset.ur[user_inner_id]\n",
    "items = map(lambda x:x[0], user_rating)\n",
    "for song in items:\n",
    "    print(algo.predict(algo.trainset.to_raw_uid(user_inner_id), algo.trainset.to_raw_iid(song), r_ui=1), song_id_name_dic[algo.trainset.to_raw_iid(song)])"
   ]
  },
  {
   "cell_type": "markdown",
   "metadata": {},
   "source": [
    "## 模型保存与加载"
   ]
  },
  {
   "cell_type": "code",
   "execution_count": 11,
   "metadata": {
    "collapsed": true
   },
   "outputs": [],
   "source": [
    "import surprise\n",
    "surprise.dump.dump('./model/recommendation.model', algo=algo)\n",
    "# 可以用下面的方式载入\n",
    "algo = surprise.dump.load('./model/recommendation.model')"
   ]
  },
  {
   "cell_type": "markdown",
   "metadata": {},
   "source": [
    "## 不同的推荐系统算法评估"
   ]
  },
  {
   "cell_type": "code",
   "execution_count": 12,
   "metadata": {
    "collapsed": true
   },
   "outputs": [],
   "source": [
    "import os\n",
    "from surprise import Reader, Dataset\n",
    "# 指定文件路径\n",
    "file_path = os.path.expanduser(path+'./popular_music_suprise_format.txt')\n",
    "# 指定文件格式\n",
    "reader = Reader(line_format='user item rating timestamp', sep=',')\n",
    "# 从文件读取数据\n",
    "music_data = Dataset.load_from_file(file_path, reader=reader)"
   ]
  },
  {
   "cell_type": "code",
   "execution_count": 13,
   "metadata": {
    "collapsed": true
   },
   "outputs": [],
   "source": [
    "from surprise.model_selection import cross_validate"
   ]
  },
  {
   "cell_type": "markdown",
   "metadata": {},
   "source": [
    "### 使用BaselineOnly"
   ]
  },
  {
   "cell_type": "code",
   "execution_count": 15,
   "metadata": {},
   "outputs": [
    {
     "name": "stdout",
     "output_type": "stream",
     "text": [
      "Estimating biases using als...\n",
      "Estimating biases using als...\n",
      "Estimating biases using als...\n",
      "Estimating biases using als...\n",
      "Estimating biases using als...\n",
      "Evaluating RMSE, MAE of algorithm BaselineOnly on 5 split(s).\n",
      "\n",
      "                  Fold 1  Fold 2  Fold 3  Fold 4  Fold 5  Mean    Std     \n",
      "MAE (testset)     0.0000  0.0000  0.0000  0.0000  0.0000  0.0000  0.0000  \n",
      "RMSE (testset)    0.0000  0.0000  0.0000  0.0000  0.0000  0.0000  0.0000  \n",
      "Fit time          0.90    0.93    0.75    0.72    0.76    0.81    0.09    \n",
      "Test time         0.64    0.63    0.40    0.41    0.42    0.50    0.11    \n"
     ]
    }
   ],
   "source": [
    "from surprise import BaselineOnly\n",
    "algo = BaselineOnly()\n",
    "result = cross_validate(algo, music_data, measures=['RMSE', 'MAE'], cv=5, verbose=True)"
   ]
  },
  {
   "cell_type": "markdown",
   "metadata": {},
   "source": [
    "### 使用基础版协同过滤"
   ]
  },
  {
   "cell_type": "code",
   "execution_count": 16,
   "metadata": {},
   "outputs": [
    {
     "name": "stdout",
     "output_type": "stream",
     "text": [
      "Computing the msd similarity matrix...\n",
      "Done computing similarity matrix.\n",
      "Computing the msd similarity matrix...\n",
      "Done computing similarity matrix.\n",
      "Computing the msd similarity matrix...\n",
      "Done computing similarity matrix.\n",
      "Computing the msd similarity matrix...\n",
      "Done computing similarity matrix.\n",
      "Computing the msd similarity matrix...\n",
      "Done computing similarity matrix.\n",
      "Evaluating RMSE, MAE of algorithm KNNBasic on 5 split(s).\n",
      "\n",
      "                  Fold 1  Fold 2  Fold 3  Fold 4  Fold 5  Mean    Std     \n",
      "MAE (testset)     0.0000  0.0000  0.0000  0.0000  0.0000  0.0000  0.0000  \n",
      "RMSE (testset)    0.0000  0.0000  0.0000  0.0000  0.0000  0.0000  0.0000  \n",
      "Fit time          0.13    0.24    0.20    0.21    0.21    0.20    0.04    \n",
      "Test time         2.01    2.12    1.99    1.98    1.98    2.01    0.06    \n"
     ]
    }
   ],
   "source": [
    "from surprise import KNNBasic\n",
    "algo = KNNBasic()\n",
    "result = cross_validate(algo, music_data, measures=['RMSE', 'MAE'], cv=5, verbose=True)"
   ]
  },
  {
   "cell_type": "markdown",
   "metadata": {},
   "source": [
    "### 使用均值协同过滤"
   ]
  },
  {
   "cell_type": "code",
   "execution_count": 17,
   "metadata": {},
   "outputs": [
    {
     "name": "stdout",
     "output_type": "stream",
     "text": [
      "Computing the msd similarity matrix...\n",
      "Done computing similarity matrix.\n",
      "Computing the msd similarity matrix...\n",
      "Done computing similarity matrix.\n",
      "Computing the msd similarity matrix...\n",
      "Done computing similarity matrix.\n",
      "Computing the msd similarity matrix...\n",
      "Done computing similarity matrix.\n",
      "Computing the msd similarity matrix...\n",
      "Done computing similarity matrix.\n",
      "Evaluating RMSE, MAE of algorithm KNNWithMeans on 5 split(s).\n",
      "\n",
      "                  Fold 1  Fold 2  Fold 3  Fold 4  Fold 5  Mean    Std     \n",
      "MAE (testset)     0.0000  0.0000  0.0000  0.0000  0.0000  0.0000  0.0000  \n",
      "RMSE (testset)    0.0000  0.0000  0.0000  0.0000  0.0000  0.0000  0.0000  \n",
      "Fit time          0.30    0.30    0.25    0.28    0.27    0.28    0.02    \n",
      "Test time         2.85    2.17    2.21    2.16    1.93    2.27    0.31    \n"
     ]
    }
   ],
   "source": [
    "from surprise import KNNWithMeans\n",
    "algo = KNNWithMeans()\n",
    "result = cross_validate(algo, music_data, measures=['RMSE', 'MAE'], cv=5, verbose=True)"
   ]
  },
  {
   "cell_type": "markdown",
   "metadata": {},
   "source": [
    "### 使用协同过滤baseline"
   ]
  },
  {
   "cell_type": "code",
   "execution_count": 18,
   "metadata": {},
   "outputs": [
    {
     "name": "stdout",
     "output_type": "stream",
     "text": [
      "Estimating biases using als...\n",
      "Computing the msd similarity matrix...\n",
      "Done computing similarity matrix.\n",
      "Estimating biases using als...\n",
      "Computing the msd similarity matrix...\n",
      "Done computing similarity matrix.\n",
      "Estimating biases using als...\n",
      "Computing the msd similarity matrix...\n",
      "Done computing similarity matrix.\n",
      "Estimating biases using als...\n",
      "Computing the msd similarity matrix...\n",
      "Done computing similarity matrix.\n",
      "Estimating biases using als...\n",
      "Computing the msd similarity matrix...\n",
      "Done computing similarity matrix.\n",
      "Evaluating RMSE, MAE of algorithm KNNBaseline on 5 split(s).\n",
      "\n",
      "                  Fold 1  Fold 2  Fold 3  Fold 4  Fold 5  Mean    Std     \n",
      "MAE (testset)     0.0000  0.0000  0.0000  0.0000  0.0000  0.0000  0.0000  \n",
      "RMSE (testset)    0.0000  0.0000  0.0000  0.0000  0.0000  0.0000  0.0000  \n",
      "Fit time          0.86    0.87    1.08    0.96    0.92    0.94    0.08    \n",
      "Test time         2.47    2.36    3.00    2.57    2.48    2.57    0.22    \n"
     ]
    }
   ],
   "source": [
    "from surprise import KNNBaseline\n",
    "algo = KNNBaseline()\n",
    "result = cross_validate(algo, music_data, measures=['RMSE', 'MAE'], cv=5, verbose=True)"
   ]
  },
  {
   "cell_type": "markdown",
   "metadata": {},
   "source": [
    "### 使用SVD"
   ]
  },
  {
   "cell_type": "code",
   "execution_count": 19,
   "metadata": {},
   "outputs": [
    {
     "name": "stdout",
     "output_type": "stream",
     "text": [
      "Evaluating RMSE, MAE of algorithm SVD on 5 split(s).\n",
      "\n",
      "                  Fold 1  Fold 2  Fold 3  Fold 4  Fold 5  Mean    Std     \n",
      "MAE (testset)     0.0165  0.0167  0.0167  0.0165  0.0166  0.0166  0.0001  \n",
      "RMSE (testset)    0.0365  0.0366  0.0368  0.0364  0.0369  0.0366  0.0002  \n",
      "Fit time          12.87   12.77   13.10   12.83   12.82   12.88   0.12    \n",
      "Test time         0.63    0.48    0.65    0.46    0.61    0.56    0.08    \n"
     ]
    }
   ],
   "source": [
    "from surprise import SVD\n",
    "algo = SVD()\n",
    "result = cross_validate(algo, music_data, measures=['RMSE', 'MAE'], cv=5, verbose=True)"
   ]
  },
  {
   "cell_type": "markdown",
   "metadata": {},
   "source": [
    "由于云平台资源有限，下面的代码没有继续运行演示，同学们要看效果的话可以重启一下，然后只运行部分算法"
   ]
  },
  {
   "cell_type": "markdown",
   "metadata": {},
   "source": [
    "### 使用SVD++"
   ]
  },
  {
   "cell_type": "code",
   "execution_count": null,
   "metadata": {
    "collapsed": true
   },
   "outputs": [],
   "source": [
    "from surprise import SVDpp\n",
    "algo = SVDpp()\n",
    "result = cross_validate(algo, music_data, measures=['RMSE', 'MAE'], cv=5, verbose=True)"
   ]
  },
  {
   "cell_type": "markdown",
   "metadata": {},
   "source": [
    "### 使用NMF"
   ]
  },
  {
   "cell_type": "code",
   "execution_count": null,
   "metadata": {
    "collapsed": true
   },
   "outputs": [],
   "source": [
    "from surprise import NMF\n",
    "algo = NMF()\n",
    "result = cross_validate(algo, music_data, measures=['RMSE', 'MAE'], cv=5, verbose=True)"
   ]
  }
 ],
 "metadata": {
  "kernelspec": {
   "display_name": "Python 3",
   "language": "python",
   "name": "python3"
  },
  "language_info": {
   "codemirror_mode": {
    "name": "ipython",
    "version": 3
   },
   "file_extension": ".py",
   "mimetype": "text/x-python",
   "name": "python",
   "nbconvert_exporter": "python",
   "pygments_lexer": "ipython3",
   "version": "3.6.3"
  },
  "toc": {
   "base_numbering": 1,
   "nav_menu": {},
   "number_sections": false,
   "sideBar": true,
   "skip_h1_title": false,
   "title_cell": "Table of Contents",
   "title_sidebar": "Contents",
   "toc_cell": false,
   "toc_position": {},
   "toc_section_display": true,
   "toc_window_display": false
  }
 },
 "nbformat": 4,
 "nbformat_minor": 2
}
